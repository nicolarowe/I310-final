{
 "cells": [
  {
   "cell_type": "code",
   "execution_count": 1,
   "id": "0e8e3db5",
   "metadata": {
    "scrolled": true
   },
   "outputs": [
    {
     "data": {
      "text/html": [
       "<div>\n",
       "<style scoped>\n",
       "    .dataframe tbody tr th:only-of-type {\n",
       "        vertical-align: middle;\n",
       "    }\n",
       "\n",
       "    .dataframe tbody tr th {\n",
       "        vertical-align: top;\n",
       "    }\n",
       "\n",
       "    .dataframe thead th {\n",
       "        text-align: right;\n",
       "    }\n",
       "</style>\n",
       "<table border=\"1\" class=\"dataframe\">\n",
       "  <thead>\n",
       "    <tr style=\"text-align: right;\">\n",
       "      <th></th>\n",
       "      <th>outcome_type</th>\n",
       "      <th>name</th>\n",
       "      <th>age_upon_outcome</th>\n",
       "      <th>sex_upon_outcome</th>\n",
       "      <th>animal_type</th>\n",
       "    </tr>\n",
       "  </thead>\n",
       "  <tbody>\n",
       "    <tr>\n",
       "      <th>0</th>\n",
       "      <td>Adoption</td>\n",
       "      <td>*Bradley</td>\n",
       "      <td>1 year</td>\n",
       "      <td>Neutered Male</td>\n",
       "      <td>Dog</td>\n",
       "    </tr>\n",
       "    <tr>\n",
       "      <th>1</th>\n",
       "      <td>Adoption</td>\n",
       "      <td>*Rajah</td>\n",
       "      <td>5 months</td>\n",
       "      <td>Neutered Male</td>\n",
       "      <td>Cat</td>\n",
       "    </tr>\n",
       "    <tr>\n",
       "      <th>2</th>\n",
       "      <td>Adoption</td>\n",
       "      <td>*Pebbles</td>\n",
       "      <td>10 months</td>\n",
       "      <td>Spayed Female</td>\n",
       "      <td>Cat</td>\n",
       "    </tr>\n",
       "    <tr>\n",
       "      <th>3</th>\n",
       "      <td>Return to Owner</td>\n",
       "      <td>Benji</td>\n",
       "      <td>5 years</td>\n",
       "      <td>Neutered Male</td>\n",
       "      <td>Dog</td>\n",
       "    </tr>\n",
       "    <tr>\n",
       "      <th>4</th>\n",
       "      <td>Euthanasia</td>\n",
       "      <td>NaN</td>\n",
       "      <td>2 years</td>\n",
       "      <td>Unknown</td>\n",
       "      <td>Other</td>\n",
       "    </tr>\n",
       "  </tbody>\n",
       "</table>\n",
       "</div>"
      ],
      "text/plain": [
       "      outcome_type      name age_upon_outcome sex_upon_outcome animal_type\n",
       "0         Adoption  *Bradley           1 year    Neutered Male         Dog\n",
       "1         Adoption    *Rajah         5 months    Neutered Male         Cat\n",
       "2         Adoption  *Pebbles        10 months    Spayed Female         Cat\n",
       "3  Return to Owner     Benji          5 years    Neutered Male         Dog\n",
       "4       Euthanasia       NaN          2 years          Unknown       Other"
      ]
     },
     "execution_count": 1,
     "metadata": {},
     "output_type": "execute_result"
    }
   ],
   "source": [
    "# Essentials \n",
    "import pandas as pd\n",
    "import sklearn as sk\n",
    "import numpy as np\n",
    "\n",
    "# Feature Engineering\n",
    "from sklearn import preprocessing\n",
    "from sklearn.model_selection import train_test_split\n",
    "\n",
    "# Model Processing and Evaluating\n",
    "import imblearn\n",
    "import sklearn.pipeline\n",
    "from imblearn.pipeline import make_pipeline\n",
    "from sklearn import preprocessing\n",
    "from sklearn.model_selection import cross_val_predict\n",
    "from sklearn.metrics import classification_report\n",
    "from sklearn.neural_network import MLPClassifier\n",
    "\n",
    "# Models\n",
    "from sklearn import tree\n",
    "from sklearn import neighbors\n",
    "from sklearn import neural_network\n",
    "\n",
    "#supress warnings\n",
    "import warnings\n",
    "warnings.filterwarnings('ignore')\n",
    "\n",
    "data = pd.read_csv('aac_data.csv')\n",
    "data.head()"
   ]
  },
  {
   "cell_type": "markdown",
   "id": "bb02d100",
   "metadata": {},
   "source": [
    "The `name` and `age_upon_outcome` features have too many possible values. To narrow this down, the following simplification methods will be applied."
   ]
  },
  {
   "cell_type": "code",
   "execution_count": 2,
   "id": "8f544080",
   "metadata": {
    "scrolled": true
   },
   "outputs": [
    {
     "data": {
      "text/html": [
       "<div>\n",
       "<style scoped>\n",
       "    .dataframe tbody tr th:only-of-type {\n",
       "        vertical-align: middle;\n",
       "    }\n",
       "\n",
       "    .dataframe tbody tr th {\n",
       "        vertical-align: top;\n",
       "    }\n",
       "\n",
       "    .dataframe thead th {\n",
       "        text-align: right;\n",
       "    }\n",
       "</style>\n",
       "<table border=\"1\" class=\"dataframe\">\n",
       "  <thead>\n",
       "    <tr style=\"text-align: right;\">\n",
       "      <th></th>\n",
       "      <th>outcome_type</th>\n",
       "      <th>name</th>\n",
       "      <th>age_upon_outcome</th>\n",
       "      <th>sex_upon_outcome</th>\n",
       "      <th>animal_type</th>\n",
       "    </tr>\n",
       "  </thead>\n",
       "  <tbody>\n",
       "    <tr>\n",
       "      <th>0</th>\n",
       "      <td>Adoption</td>\n",
       "      <td>1</td>\n",
       "      <td>1 year</td>\n",
       "      <td>Neutered Male</td>\n",
       "      <td>Dog</td>\n",
       "    </tr>\n",
       "    <tr>\n",
       "      <th>1</th>\n",
       "      <td>Adoption</td>\n",
       "      <td>1</td>\n",
       "      <td>&lt; 1 year</td>\n",
       "      <td>Neutered Male</td>\n",
       "      <td>Cat</td>\n",
       "    </tr>\n",
       "    <tr>\n",
       "      <th>2</th>\n",
       "      <td>Adoption</td>\n",
       "      <td>1</td>\n",
       "      <td>&lt; 1 year</td>\n",
       "      <td>Spayed Female</td>\n",
       "      <td>Cat</td>\n",
       "    </tr>\n",
       "    <tr>\n",
       "      <th>3</th>\n",
       "      <td>Return to Owner</td>\n",
       "      <td>1</td>\n",
       "      <td>5 years</td>\n",
       "      <td>Neutered Male</td>\n",
       "      <td>Dog</td>\n",
       "    </tr>\n",
       "    <tr>\n",
       "      <th>4</th>\n",
       "      <td>Euthanasia</td>\n",
       "      <td>0</td>\n",
       "      <td>2 years</td>\n",
       "      <td>Unknown</td>\n",
       "      <td>Other</td>\n",
       "    </tr>\n",
       "    <tr>\n",
       "      <th>...</th>\n",
       "      <td>...</td>\n",
       "      <td>...</td>\n",
       "      <td>...</td>\n",
       "      <td>...</td>\n",
       "      <td>...</td>\n",
       "    </tr>\n",
       "    <tr>\n",
       "      <th>95351</th>\n",
       "      <td>Return to Owner</td>\n",
       "      <td>1</td>\n",
       "      <td>1 year</td>\n",
       "      <td>Intact Male</td>\n",
       "      <td>Dog</td>\n",
       "    </tr>\n",
       "    <tr>\n",
       "      <th>95352</th>\n",
       "      <td>Return to Owner</td>\n",
       "      <td>1</td>\n",
       "      <td>&lt; 1 year</td>\n",
       "      <td>Intact Female</td>\n",
       "      <td>Dog</td>\n",
       "    </tr>\n",
       "    <tr>\n",
       "      <th>95353</th>\n",
       "      <td>Return to Owner</td>\n",
       "      <td>1</td>\n",
       "      <td>6 years</td>\n",
       "      <td>Neutered Male</td>\n",
       "      <td>Dog</td>\n",
       "    </tr>\n",
       "    <tr>\n",
       "      <th>95354</th>\n",
       "      <td>Adoption</td>\n",
       "      <td>1</td>\n",
       "      <td>3 years</td>\n",
       "      <td>Neutered Male</td>\n",
       "      <td>Cat</td>\n",
       "    </tr>\n",
       "    <tr>\n",
       "      <th>95355</th>\n",
       "      <td>Euthanasia</td>\n",
       "      <td>1</td>\n",
       "      <td>2 years</td>\n",
       "      <td>Neutered Male</td>\n",
       "      <td>Dog</td>\n",
       "    </tr>\n",
       "  </tbody>\n",
       "</table>\n",
       "<p>95356 rows × 5 columns</p>\n",
       "</div>"
      ],
      "text/plain": [
       "          outcome_type  name age_upon_outcome sex_upon_outcome animal_type\n",
       "0             Adoption     1           1 year    Neutered Male         Dog\n",
       "1             Adoption     1         < 1 year    Neutered Male         Cat\n",
       "2             Adoption     1         < 1 year    Spayed Female         Cat\n",
       "3      Return to Owner     1          5 years    Neutered Male         Dog\n",
       "4           Euthanasia     0          2 years          Unknown       Other\n",
       "...                ...   ...              ...              ...         ...\n",
       "95351  Return to Owner     1           1 year      Intact Male         Dog\n",
       "95352  Return to Owner     1         < 1 year    Intact Female         Dog\n",
       "95353  Return to Owner     1          6 years    Neutered Male         Dog\n",
       "95354         Adoption     1          3 years    Neutered Male         Cat\n",
       "95355       Euthanasia     1          2 years    Neutered Male         Dog\n",
       "\n",
       "[95356 rows x 5 columns]"
      ]
     },
     "execution_count": 2,
     "metadata": {},
     "output_type": "execute_result"
    }
   ],
   "source": [
    "data.fillna(False,inplace=True)\n",
    "\n",
    "simplify_age = lambda age: '< 1 year' if (age == '0 years' or 'week' in str(age) or 'month' in str(age) or 'day' in str(age)) else age\n",
    "data['age_upon_outcome'] = data['age_upon_outcome'].apply(simplify_age)\n",
    "\n",
    "simplify_name = lambda name: 1 if name != False else 0\n",
    "data['name'] = data['name'].apply(simplify_name)\n",
    "\n",
    "data"
   ]
  },
  {
   "cell_type": "markdown",
   "id": "3d78f968",
   "metadata": {},
   "source": [
    "To prepare for model creation, \"dummy variables\" turning each categorical feature into multiple 1 (true)/0 (false) features. The resultant column names are output below."
   ]
  },
  {
   "cell_type": "code",
   "execution_count": 3,
   "id": "10db6bb6",
   "metadata": {
    "scrolled": true
   },
   "outputs": [
    {
     "data": {
      "text/plain": [
       "array(['name', 'outcome_type_Adoption', 'outcome_type_Died',\n",
       "       'outcome_type_Disposal', 'outcome_type_Euthanasia',\n",
       "       'outcome_type_Missing', 'outcome_type_Relocate',\n",
       "       'outcome_type_Return to Owner', 'outcome_type_Rto-Adopt',\n",
       "       'outcome_type_Transfer', 'age_upon_outcome_1 year',\n",
       "       'age_upon_outcome_10 years', 'age_upon_outcome_11 years',\n",
       "       'age_upon_outcome_12 years', 'age_upon_outcome_13 years',\n",
       "       'age_upon_outcome_14 years', 'age_upon_outcome_15 years',\n",
       "       'age_upon_outcome_16 years', 'age_upon_outcome_17 years',\n",
       "       'age_upon_outcome_18 years', 'age_upon_outcome_19 years',\n",
       "       'age_upon_outcome_2 years', 'age_upon_outcome_20 years',\n",
       "       'age_upon_outcome_22 years', 'age_upon_outcome_24 years',\n",
       "       'age_upon_outcome_25 years', 'age_upon_outcome_3 years',\n",
       "       'age_upon_outcome_4 years', 'age_upon_outcome_5 years',\n",
       "       'age_upon_outcome_6 years', 'age_upon_outcome_7 years',\n",
       "       'age_upon_outcome_8 years', 'age_upon_outcome_9 years',\n",
       "       'age_upon_outcome_< 1 year', 'sex_upon_outcome_Intact Female',\n",
       "       'sex_upon_outcome_Intact Male', 'sex_upon_outcome_Neutered Male',\n",
       "       'sex_upon_outcome_Spayed Female', 'sex_upon_outcome_Unknown',\n",
       "       'animal_type_Bird', 'animal_type_Cat', 'animal_type_Dog',\n",
       "       'animal_type_Livestock', 'animal_type_Other'], dtype=object)"
      ]
     },
     "execution_count": 3,
     "metadata": {},
     "output_type": "execute_result"
    }
   ],
   "source": [
    "cat_vars = ['outcome_type','age_upon_outcome','sex_upon_outcome','animal_type']\n",
    "for var in cat_vars:\n",
    "    cat_list = 'var'+'_'+var\n",
    "    cat_list = pd.get_dummies(data[var],prefix=var)\n",
    "    data1=data.join(cat_list)\n",
    "    data=data1\n",
    "\n",
    "data_vars = data.columns.values.tolist()\n",
    "to_keep = [i for i in data_vars if i not in cat_vars]\n",
    "\n",
    "data_final = data[to_keep]\n",
    "data_final.columns.values"
   ]
  },
  {
   "cell_type": "code",
   "execution_count": 4,
   "id": "1d91ae2a",
   "metadata": {
    "scrolled": true
   },
   "outputs": [],
   "source": [
    "# separate data btwn train and test\n",
    "\n",
    "label = pd.get_dummies(data['name'])\n",
    "label = label.drop(0,axis=1)\n",
    "\n",
    "features = data_final.drop(columns='name')"
   ]
  },
  {
   "cell_type": "code",
   "execution_count": 5,
   "id": "e361df4e",
   "metadata": {},
   "outputs": [],
   "source": [
    "feat_train, feat_test, label_train, label_test = train_test_split(features,label,test_size=0.3, random_state=1, stratify=label)\n",
    "label_train=label_train.squeeze()"
   ]
  },
  {
   "cell_type": "code",
   "execution_count": 6,
   "id": "a28632a1",
   "metadata": {
    "scrolled": true
   },
   "outputs": [
    {
     "name": "stdout",
     "output_type": "stream",
     "text": [
      "1    22017\n",
      "0     6590\n",
      "dtype: int64\n",
      "              precision    recall  f1-score   support\n",
      "\n",
      "           0       0.82      0.61      0.70      8827\n",
      "           1       0.84      0.94      0.89     19780\n",
      "\n",
      "    accuracy                           0.84     28607\n",
      "   macro avg       0.83      0.77      0.79     28607\n",
      "weighted avg       0.84      0.84      0.83     28607\n",
      "\n"
     ]
    }
   ],
   "source": [
    "#create model\n",
    "mlp_model = sk.neural_network.MLPClassifier()\n",
    "\n",
    "#fit and get predictions\n",
    "predictions = mlp_model.fit(feat_train, label_train).predict(feat_test)\n",
    "\n",
    "#print results\n",
    "print(pd.Series(predictions).value_counts())\n",
    "print(classification_report(label_test, predictions))"
   ]
  },
  {
   "cell_type": "code",
   "execution_count": 7,
   "id": "b2fc7616",
   "metadata": {
    "scrolled": false
   },
   "outputs": [
    {
     "name": "stdout",
     "output_type": "stream",
     "text": [
      "1    16910\n",
      "0    11697\n",
      "dtype: int64\n",
      "              precision    recall  f1-score   support\n",
      "\n",
      "           0       0.54      0.72      0.62      8827\n",
      "           1       0.85      0.73      0.79     19780\n",
      "\n",
      "    accuracy                           0.73     28607\n",
      "   macro avg       0.70      0.72      0.70     28607\n",
      "weighted avg       0.76      0.73      0.73     28607\n",
      "\n"
     ]
    }
   ],
   "source": [
    "#create model\n",
    "knn_model = sk.neighbors.KNeighborsClassifier(n_neighbors=2)\n",
    "\n",
    "#fit and get predictions\n",
    "predictions = knn_model.fit(feat_train, label_train).predict(feat_test)\n",
    "\n",
    "#print results\n",
    "print(pd.Series(predictions).value_counts())\n",
    "print(classification_report(label_test, predictions))"
   ]
  },
  {
   "cell_type": "code",
   "execution_count": 8,
   "id": "c445ca49",
   "metadata": {
    "scrolled": true
   },
   "outputs": [
    {
     "name": "stdout",
     "output_type": "stream",
     "text": [
      "1    21905\n",
      "0     6702\n",
      "dtype: int64\n",
      "              precision    recall  f1-score   support\n",
      "\n",
      "           0       0.80      0.61      0.69      8827\n",
      "           1       0.84      0.93      0.89     19780\n",
      "\n",
      "    accuracy                           0.83     28607\n",
      "   macro avg       0.82      0.77      0.79     28607\n",
      "weighted avg       0.83      0.83      0.83     28607\n",
      "\n"
     ]
    }
   ],
   "source": [
    "#Create Decision Tree\n",
    "decision_tree = tree.DecisionTreeClassifier(max_depth=5)\n",
    "\n",
    "#fit and get the predictions\n",
    "predictions = decision_tree.fit(feat_train, label_train).predict(feat_test)\n",
    "\n",
    "#print results\n",
    "print(pd.Series(predictions).value_counts())\n",
    "print(classification_report(label_test, predictions))"
   ]
  }
 ],
 "metadata": {
  "kernelspec": {
   "display_name": "Python 3 (ipykernel)",
   "language": "python",
   "name": "python3"
  },
  "language_info": {
   "codemirror_mode": {
    "name": "ipython",
    "version": 3
   },
   "file_extension": ".py",
   "mimetype": "text/x-python",
   "name": "python",
   "nbconvert_exporter": "python",
   "pygments_lexer": "ipython3",
   "version": "3.9.12"
  }
 },
 "nbformat": 4,
 "nbformat_minor": 5
}
